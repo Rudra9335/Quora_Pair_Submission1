{
 "cells": [
  {
   "cell_type": "code",
   "execution_count": 41,
   "metadata": {
    "collapsed": true
   },
   "outputs": [],
   "source": [
    "import pandas as pd \n",
    "import numpy as np\n",
    "from numpy import genfromtxt\n",
    "import nltk\n"
   ]
  },
  {
   "cell_type": "code",
   "execution_count": 42,
   "metadata": {
    "collapsed": true
   },
   "outputs": [],
   "source": [
    "df = pd.read_pickle(\"/home/rudra/Quora_Pair/Data.pkl\")\n",
    "test = pd.read_pickle(\"/home/rudra/Quora_Pair/Data_test.pkl\")"
   ]
  },
  {
   "cell_type": "code",
   "execution_count": 43,
   "metadata": {},
   "outputs": [],
   "source": [
    "xtrain_nn = df[['bi_gram_score','tri_gram_score','quad_gram_score','InQ1NotinQ2_words',\n",
    "           'NotinQ1InQ2_words','Intersect_Q1Q2_clean','in_q1_not_in_q2','in_q2_not_in_q1','intersection_q1_q2']]\n",
    "ytrain_nn = df[['is_duplicate']]\n",
    "\n",
    "xtest_nn = test[['bi_gram_score','tri_gram_score','quad_gram_score','InQ1NotinQ2_words',\n",
    "           'NotinQ1InQ2_words','Intersect_Q1Q2_clean','in_q1_not_in_q2','in_q2_not_in_q1','intersection_q1_q2']]\n",
    "#adding bias\n",
    "xtrain_nn.insert(0,'bias',1)\n",
    "xtest_nn.insert(0,'bias',1)"
   ]
  },
  {
   "cell_type": "code",
   "execution_count": 44,
   "metadata": {},
   "outputs": [],
   "source": [
    "x_train_nn = xtrain_nn.as_matrix()   #Convert pd to numpy\n",
    "y_train_nn = ytrain_nn.as_matrix()\n",
    "x_test_nn = xtest_nn.as_matrix()\n",
    "\n",
    "limit = int((x_nn.shape[0])*0.8) #80% data for train and rest for valid\n",
    "\n",
    "########################################################################\n",
    "\n",
    "x_train = x_train_nn[:limit]\n",
    "y_train = y_train_nn[:limit]\n",
    "\n",
    "x_val = x_train_nn[limit+1:]\n",
    "y_val = y_train_nn[limit+1:]"
   ]
  },
  {
   "cell_type": "code",
   "execution_count": 45,
   "metadata": {
    "collapsed": true
   },
   "outputs": [],
   "source": [
    "weight = np.zeros((3,10))"
   ]
  },
  {
   "cell_type": "code",
   "execution_count": 47,
   "metadata": {},
   "outputs": [
    {
     "name": "stdout",
     "output_type": "stream",
     "text": [
      "(323432, 10)\n",
      "(3, 10)\n"
     ]
    }
   ],
   "source": [
    "print x_train.shape\n",
    "print weight.shape\n"
   ]
  },
  {
   "cell_type": "code",
   "execution_count": 48,
   "metadata": {},
   "outputs": [],
   "source": []
  },
  {
   "cell_type": "code",
   "execution_count": 49,
   "metadata": {
    "collapsed": true
   },
   "outputs": [],
   "source": []
  },
  {
   "cell_type": "code",
   "execution_count": 50,
   "metadata": {
    "collapsed": true
   },
   "outputs": [],
   "source": []
  },
  {
   "cell_type": "code",
   "execution_count": 54,
   "metadata": {
    "collapsed": true
   },
   "outputs": [],
   "source": []
  },
  {
   "cell_type": "code",
   "execution_count": 55,
   "metadata": {
    "collapsed": true
   },
   "outputs": [],
   "source": []
  },
  {
   "cell_type": "code",
   "execution_count": 56,
   "metadata": {
    "collapsed": true
   },
   "outputs": [],
   "source": []
  },
  {
   "cell_type": "code",
   "execution_count": null,
   "metadata": {
    "collapsed": true
   },
   "outputs": [],
   "source": []
  },
  {
   "cell_type": "code",
   "execution_count": null,
   "metadata": {
    "collapsed": true
   },
   "outputs": [],
   "source": []
  }
 ],
 "metadata": {
  "kernelspec": {
   "display_name": "Python 2",
   "language": "python",
   "name": "python2"
  },
  "language_info": {
   "codemirror_mode": {
    "name": "ipython",
    "version": 2
   },
   "file_extension": ".py",
   "mimetype": "text/x-python",
   "name": "python",
   "nbconvert_exporter": "python",
   "pygments_lexer": "ipython2",
   "version": "2.7.12"
  }
 },
 "nbformat": 4,
 "nbformat_minor": 2
}
